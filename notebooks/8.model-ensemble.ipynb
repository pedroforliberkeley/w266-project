{
 "cells": [
  {
   "cell_type": "markdown",
   "id": "205a9e54",
   "metadata": {},
   "source": [
    "# Model Ensemble"
   ]
  },
  {
   "cell_type": "markdown",
   "id": "06d5e36e",
   "metadata": {},
   "source": [
    "---"
   ]
  },
  {
   "cell_type": "markdown",
   "id": "3e4782f5",
   "metadata": {},
   "source": [
    "## Imports"
   ]
  },
  {
   "cell_type": "code",
   "execution_count": 1,
   "id": "c54e281e",
   "metadata": {
    "ExecuteTime": {
     "end_time": "2023-07-30T22:11:56.709648Z",
     "start_time": "2023-07-30T22:11:53.796677Z"
    }
   },
   "outputs": [],
   "source": [
    "import itertools\n",
    "import json\n",
    "import os\n",
    "import pickle\n",
    "import random\n",
    "import re\n",
    "import string\n",
    "\n",
    "from pathlib import Path\n",
    "\n",
    "import contractions\n",
    "import emoji\n",
    "import matplotlib.pyplot as plt\n",
    "import numpy as np\n",
    "import pandas as pd\n",
    "import seaborn as sns\n",
    "from nltk.corpus import stopwords\n",
    "\n",
    "from tqdm import tqdm"
   ]
  },
  {
   "cell_type": "code",
   "execution_count": 2,
   "id": "efbf1bfd",
   "metadata": {
    "ExecuteTime": {
     "end_time": "2023-07-30T22:11:56.741648Z",
     "start_time": "2023-07-30T22:11:56.726647Z"
    }
   },
   "outputs": [],
   "source": [
    "STOP_WORDS = set(stopwords.words(\"english\"))"
   ]
  },
  {
   "cell_type": "markdown",
   "id": "40889a5d",
   "metadata": {},
   "source": [
    "---"
   ]
  },
  {
   "cell_type": "markdown",
   "id": "85f8c1df",
   "metadata": {},
   "source": [
    "## List Experiments "
   ]
  },
  {
   "cell_type": "code",
   "execution_count": 3,
   "id": "fb263710",
   "metadata": {
    "ExecuteTime": {
     "end_time": "2023-07-30T22:11:56.804283Z",
     "start_time": "2023-07-30T22:11:56.758648Z"
    },
    "scrolled": true
   },
   "outputs": [],
   "source": [
    "parent_folder = Path(f\"../experiments/\")\n",
    "all_subfolder = os.listdir(parent_folder)\n",
    "\n",
    "experiments = list()\n",
    "for sub in all_subfolder:\n",
    "    folder = parent_folder / sub\n",
    "    try:\n",
    "        with open(folder / \"grid_params.json\", \"r\") as f:\n",
    "            grid = json.load(f)\n",
    "    except FileNotFoundError:\n",
    "        continue\n",
    "    with open(folder / \"metrics_validation.json\", \"r\") as f:\n",
    "        metrics = json.load(f)\n",
    "    if os.path.exists(folder / \"history.pkl\"):\n",
    "        with open(folder / \"history.pkl\", \"rb\") as f:\n",
    "            history = pickle.load(f)\n",
    "            actual_epochs = len(history[\"loss\"])\n",
    "    else:\n",
    "        actual_epochs = 10\n",
    "    grid[\"code\"] = sub\n",
    "    grid[\"f1_macro\"] = metrics[\"f1_macro\"]\n",
    "    grid[\"actual_epoch\"] = actual_epochs\n",
    "    experiments.append(grid)\n",
    "experiments = (\n",
    "    pd.DataFrame(experiments)\n",
    "    .assign(trainable=lambda f: f[\"trainable\"].fillna(\"all\"))\n",
    "    .assign(dropout=lambda f: f[\"dropout\"].fillna(0.3))\n",
    "    .assign(label_smoothing=lambda f: f[\"label_smoothing\"].fillna(0))\n",
    "    .assign(scheduler=lambda f: f[\"scheduler\"].fillna(0.2))\n",
    "    .sort_values(by=[\"f1_macro\"], ascending=False)\n",
    ")"
   ]
  },
  {
   "cell_type": "raw",
   "id": "3c0573a6",
   "metadata": {
    "ExecuteTime": {
     "end_time": "2023-07-30T21:30:53.010984Z",
     "start_time": "2023-07-30T21:30:52.925953Z"
    }
   },
   "source": [
    "experiments"
   ]
  },
  {
   "cell_type": "raw",
   "id": "c5eab289",
   "metadata": {
    "ExecuteTime": {
     "end_time": "2023-07-30T11:52:08.717406Z",
     "start_time": "2023-07-30T11:52:08.704407Z"
    }
   },
   "source": [
    "experiments.values"
   ]
  },
  {
   "cell_type": "markdown",
   "id": "d6cc76ee",
   "metadata": {},
   "source": [
    "---"
   ]
  },
  {
   "cell_type": "markdown",
   "id": "dc1e9fe4",
   "metadata": {},
   "source": [
    "## Code"
   ]
  },
  {
   "cell_type": "code",
   "execution_count": 29,
   "id": "2ba61323",
   "metadata": {
    "ExecuteTime": {
     "end_time": "2023-07-30T22:20:33.383125Z",
     "start_time": "2023-07-30T22:20:33.233092Z"
    }
   },
   "outputs": [],
   "source": [
    "from sklearn.metrics import f1_score\n",
    "from sklearn.metrics import classification_report\n",
    "from sklearn.metrics import confusion_matrix\n",
    "from sklearn.metrics import roc_auc_score\n",
    "from sklearn.metrics import average_precision_score\n",
    "\n",
    "\n",
    "dataset = pd.read_parquet(\"../data/clean_data.parquet\")\n",
    "TARGET_NAMES = sorted(list(dataset[\"goemotion\"].unique()))\n",
    "\n",
    "\n",
    "def evaluate_model(p_set: str, proba: pd.DataFrame, dataset: pd.DataFrame) -> dict:\n",
    "    \"\"\"\n",
    "    Evaluate the model results\n",
    "    \n",
    "    :param p_set: which prediction set to use (test, validation)\n",
    "    :param dataset: the complete dataset\n",
    "    :return: model evaluation values\n",
    "    \"\"\"\n",
    "    outputs = dict()\n",
    "    df = dataset.loc[lambda f: f[\"set\"] == p_set]\n",
    "    \n",
    "    # get the one-hot-encoded values\n",
    "    pv = df.pivot_table(index=[\"code\"], columns=\"goemotion\", values=\"set\", aggfunc=\"count\", fill_value=0)\n",
    "    \n",
    "    # generate the predictions\n",
    "    proba = proba.loc[pv.index, pv.columns]\n",
    "    predictions = (proba.values > 0.2).astype(int)\n",
    "    pred = (\n",
    "        proba.reset_index()\n",
    "        .rename(columns={\"index\": \"code\"})\n",
    "        .melt(id_vars=[\"code\"], var_name=\"goemotion\", value_name=\"proba\")\n",
    "    )\n",
    "    pred[\"flag\"] = pred[\"proba\"] > 0.2\n",
    "    outputs[\"predictions\"] = pred\n",
    "    \n",
    "    # calculate metrics\n",
    "    outputs[\"f1_macro\"] = f1_score(pv[TARGET_NAMES].values, predictions, average=\"macro\")\n",
    "    outputs[\"f1_micro\"] = f1_score(pv[TARGET_NAMES].values, predictions, average=\"micro\")\n",
    "    outputs[\"roc_auc\"] = roc_auc_score(pv[TARGET_NAMES].values, proba.values, average=\"macro\", multi_class=\"ovo\")\n",
    "    outputs[\"confusion_matrix\"] = confusion_matrix(\n",
    "        np.argmax(pv[TARGET_NAMES].values, axis=1), np.argmax(predictions, axis=1)\n",
    "    )\n",
    "    outputs[\"classification_report\"] = classification_report(\n",
    "        pv[TARGET_NAMES].values, predictions, target_names=TARGET_NAMES\n",
    "    )\n",
    "    \n",
    "    # get the misclassification value\n",
    "    df = df.merge(pred.loc[lambda f: f[\"flag\"] == 1], on=[\"code\", \"goemotion\"], how=\"left\")\n",
    "    corrclass = df[df[\"flag\"].notnull()]\n",
    "    misclass = df[df[\"flag\"].isnull()]\n",
    "    outputs[\"misclassification\"] = misclass\n",
    "    \n",
    "    # get misclassification examples\n",
    "    outputs[\"misclassification_examples\"] = {\n",
    "        label: misclass[misclass[\"goemotion\"] == label]\n",
    "        .sample(3, replace=True)\n",
    "        .drop_duplicates()\n",
    "        .text\n",
    "        .to_list()\n",
    "        for label in TARGET_NAMES\n",
    "        if misclass[misclass[\"goemotion\"] == label].shape[0] > 0\n",
    "    }\n",
    "    \n",
    "    return outputs"
   ]
  },
  {
   "cell_type": "markdown",
   "id": "4bf538bf",
   "metadata": {},
   "source": [
    "---"
   ]
  },
  {
   "cell_type": "markdown",
   "id": "0edafc17",
   "metadata": {},
   "source": [
    "## Load Predictions "
   ]
  },
  {
   "cell_type": "markdown",
   "id": "370c89b0",
   "metadata": {},
   "source": [
    "### BERT Model "
   ]
  },
  {
   "cell_type": "code",
   "execution_count": 4,
   "id": "98651860",
   "metadata": {
    "ExecuteTime": {
     "end_time": "2023-07-30T22:13:38.720448Z",
     "start_time": "2023-07-30T22:13:38.705447Z"
    }
   },
   "outputs": [],
   "source": [
    "experiment = \"20230729T214900\"\n",
    "folder = Path(f\"../experiments/{experiment}\")\n",
    "with open(folder / \"original_predictions.pkl\", \"rb\") as f:\n",
    "    bert_predictions = pickle.load(f)"
   ]
  },
  {
   "cell_type": "markdown",
   "id": "2c00ed09",
   "metadata": {},
   "source": [
    "### RoBERTa Model "
   ]
  },
  {
   "cell_type": "code",
   "execution_count": 5,
   "id": "d9520192",
   "metadata": {
    "ExecuteTime": {
     "end_time": "2023-07-30T22:13:39.619835Z",
     "start_time": "2023-07-30T22:13:39.600835Z"
    }
   },
   "outputs": [],
   "source": [
    "experiment = \"20230730T160140\"\n",
    "folder = Path(f\"../experiments/{experiment}\")\n",
    "with open(folder / \"original_predictions.pkl\", \"rb\") as f:\n",
    "    roberta_predictions = pickle.load(f)"
   ]
  },
  {
   "cell_type": "markdown",
   "id": "774c0420",
   "metadata": {},
   "source": [
    "## Combine Models "
   ]
  },
  {
   "cell_type": "code",
   "execution_count": 46,
   "id": "e3003bc4",
   "metadata": {
    "ExecuteTime": {
     "end_time": "2023-07-30T22:35:46.286263Z",
     "start_time": "2023-07-30T22:35:46.274262Z"
    }
   },
   "outputs": [],
   "source": [
    "p_set = \"test\""
   ]
  },
  {
   "cell_type": "markdown",
   "id": "2db6f6d9",
   "metadata": {},
   "source": [
    "### Get Predictions"
   ]
  },
  {
   "cell_type": "code",
   "execution_count": 47,
   "id": "d51e3879",
   "metadata": {
    "ExecuteTime": {
     "end_time": "2023-07-30T22:35:46.740262Z",
     "start_time": "2023-07-30T22:35:46.737263Z"
    }
   },
   "outputs": [],
   "source": [
    "base_model = list(bert_predictions)[0]\n",
    "gs_model = list(bert_predictions)[1]\n",
    "ap_model = list(bert_predictions)[2]"
   ]
  },
  {
   "cell_type": "code",
   "execution_count": 48,
   "id": "03bceafa",
   "metadata": {
    "ExecuteTime": {
     "end_time": "2023-07-30T22:35:47.048264Z",
     "start_time": "2023-07-30T22:35:47.041266Z"
    }
   },
   "outputs": [],
   "source": [
    "base_val = bert_predictions[base_model][p_set]\n",
    "gs_val = bert_predictions[gs_model][p_set]\n",
    "ap_val = roberta_predictions[ap_model][p_set]"
   ]
  },
  {
   "cell_type": "markdown",
   "id": "f5cd452b",
   "metadata": {},
   "source": [
    "### Combine Tables "
   ]
  },
  {
   "cell_type": "code",
   "execution_count": 49,
   "id": "21296eca",
   "metadata": {
    "ExecuteTime": {
     "end_time": "2023-07-30T22:35:47.660228Z",
     "start_time": "2023-07-30T22:35:47.649230Z"
    }
   },
   "outputs": [],
   "source": [
    "ensemble = pd.concat(\n",
    "    [\n",
    "        base_val.drop(columns=[\"grief_sadness\", \"pride_admiration\"]),\n",
    "        gs_val.multiply(base_val[\"grief_sadness\"], axis=0),\n",
    "        ap_val.multiply(base_val[\"pride_admiration\"], axis=0)\n",
    "    ],\n",
    "    axis=1\n",
    ")"
   ]
  },
  {
   "cell_type": "markdown",
   "id": "4092dece",
   "metadata": {},
   "source": [
    "## Evaluate Predictions"
   ]
  },
  {
   "cell_type": "code",
   "execution_count": 50,
   "id": "2840e10c",
   "metadata": {
    "ExecuteTime": {
     "end_time": "2023-07-30T22:35:48.577228Z",
     "start_time": "2023-07-30T22:35:48.401226Z"
    }
   },
   "outputs": [
    {
     "name": "stderr",
     "output_type": "stream",
     "text": [
      "C:\\Users\\pedro.forli\\.conda\\envs\\w266\\lib\\site-packages\\sklearn\\metrics\\_classification.py:1344: UndefinedMetricWarning: Precision and F-score are ill-defined and being set to 0.0 in labels with no predicted samples. Use `zero_division` parameter to control this behavior.\n",
      "  _warn_prf(average, modifier, msg_start, len(result))\n",
      "C:\\Users\\pedro.forli\\.conda\\envs\\w266\\lib\\site-packages\\sklearn\\metrics\\_classification.py:1344: UndefinedMetricWarning: Precision and F-score are ill-defined and being set to 0.0 in samples with no predicted labels. Use `zero_division` parameter to control this behavior.\n",
      "  _warn_prf(average, modifier, msg_start, len(result))\n"
     ]
    },
    {
     "data": {
      "text/plain": [
       "{'predictions':            code   goemotion     proba   flag\n",
       " 0       eczc44a  admiration  0.035331  False\n",
       " 1       eczctf2  admiration  0.022908  False\n",
       " 2       eczcvgx  admiration  0.000733  False\n",
       " 3       eczd20f  admiration  0.004353  False\n",
       " 4       eczd32o  admiration  0.006658  False\n",
       " ...         ...         ...       ...    ...\n",
       " 151951  efh9yyp    surprise  0.000099  False\n",
       " 151952  efha0zn    surprise  0.002135  False\n",
       " 151953  efhbv2x    surprise  0.000717  False\n",
       " 151954  efhc56l    surprise  0.000002  False\n",
       " 151955  efhcnhz    surprise  0.000307  False\n",
       " \n",
       " [151956 rows x 4 columns],\n",
       " 'f1_macro': 0.5134078388956397,\n",
       " 'f1_micro': 0.6025019885747342,\n",
       " 'roc_auc': 0.9264151262490408,\n",
       " 'confusion_matrix': array([[395,   5,   1,   4,  10,   4,   0,   4,   0,   3,   1,   0,   0,\n",
       "           4,   2,  12,   0,   8,  20,   0,  20,   4,   2,   0,   0,   0,\n",
       "           2,   3],\n",
       "        [  9, 217,   4,   0,   0,   0,   3,   2,   1,   0,   1,   1,   0,\n",
       "           2,   0,   4,   0,   0,   0,   0,   7,   1,   0,   0,   0,   0,\n",
       "           0,   0],\n",
       "        [  1,   1, 114,  33,   1,   2,   4,   4,   0,   0,   5,   5,   0,\n",
       "           0,   0,   3,   1,   0,   4,   0,  19,   0,   0,   0,   0,   0,\n",
       "           0,   0],\n",
       "        [  6,   6,  49,  78,  15,   3,   4,   9,   1,  12,  17,   6,   2,\n",
       "           0,   5,   1,   0,   0,   3,   0,  65,   2,   0,   0,   0,   1,\n",
       "           0,   1],\n",
       "        [ 26,   2,   1,  10, 142,   9,   3,   5,   1,   5,   9,   0,   0,\n",
       "           2,   1,   7,   0,   6,   7,   1,  70,   7,   1,   0,   0,   1,\n",
       "           0,   2],\n",
       "        [  4,   1,   2,   3,  10,  53,   1,   0,   1,   0,   0,   0,   0,\n",
       "           2,   0,   4,   0,   3,   3,   1,  20,   5,   0,   0,   0,   1,\n",
       "           0,   0],\n",
       "        [  4,   0,   0,   6,   4,   1,  73,  30,   0,   0,   3,   0,   0,\n",
       "           0,   0,   2,   0,   1,   1,   0,  10,   0,   0,   1,   0,   1,\n",
       "           0,   2],\n",
       "        [  5,   1,   2,   0,   4,   3,  28, 151,   0,   0,   0,   0,   1,\n",
       "           2,   1,   3,   0,   1,   1,   2,  16,   3,   0,   0,   0,   1,\n",
       "           2,   6],\n",
       "        [  0,   0,   2,   1,   3,   2,   0,   2,  33,   2,   0,   0,   0,\n",
       "           4,   1,   0,   0,   3,   4,   0,   6,   8,   0,   0,   0,   1,\n",
       "           2,   0],\n",
       "        [  3,   1,   7,  13,   1,   1,   4,   1,   1,  42,  10,   2,   0,\n",
       "           2,   2,   2,   0,   0,   1,   0,  22,   3,   0,   0,   0,   1,\n",
       "           8,   0],\n",
       "        [  6,   5,   6,  23,   7,   0,  10,   1,   0,   9,  84,   9,   1,\n",
       "           1,   1,   1,   0,   0,   6,   0,  43,   1,   0,   1,   0,   3,\n",
       "           1,   1],\n",
       "        [  0,   3,  10,  12,   0,   1,   0,   1,   0,   6,   3,  34,   0,\n",
       "           0,   4,   0,   0,   0,   1,   0,   8,   0,   0,   0,   0,   0,\n",
       "           0,   1],\n",
       "        [  0,   0,   2,   2,   0,   0,   0,   1,   0,   1,   0,   0,  11,\n",
       "           0,   0,   0,   0,   1,   0,   0,   6,   0,   0,   1,   0,   1,\n",
       "           1,   3],\n",
       "        [ 11,   0,   0,   0,   4,   0,   0,   6,   1,   0,   0,   0,   0,\n",
       "          35,   1,   5,   0,   8,   0,   0,  12,   0,   0,   0,   0,   0,\n",
       "           0,   1],\n",
       "        [  0,   0,   2,   1,   0,   1,   0,   1,   0,   1,   1,   3,   0,\n",
       "           1,  55,   0,   0,   0,   0,   0,   7,   0,   0,   0,   0,   0,\n",
       "           1,   0],\n",
       "        [ 25,   1,   0,   1,   0,   2,   0,   2,   0,   0,   0,   0,   0,\n",
       "           5,   0, 245,   0,   5,   0,   0,   1,   1,   0,   0,   0,   0,\n",
       "           0,   0],\n",
       "        [  0,   0,   2,   1,   0,   0,   0,   0,   0,   0,   0,   0,   0,\n",
       "           0,   0,   0,   3,   0,   0,   0,   0,   0,   0,   0,   0,   0,\n",
       "           0,   0],\n",
       "        [ 18,   7,   0,   1,   0,   1,   1,   1,   1,   2,   0,   0,   0,\n",
       "           5,   1,   2,   0,  61,   9,   0,   4,   1,   0,   0,   0,   0,\n",
       "           0,   1],\n",
       "        [ 11,   1,   2,   1,   8,   0,   0,   0,   0,   0,   2,   0,   0,\n",
       "           1,   0,   0,   0,   3, 132,   0,   6,   1,   0,   0,   0,   0,\n",
       "           1,   0],\n",
       "        [  0,   0,   0,   0,   0,   1,   1,   1,   0,   3,   0,   0,   0,\n",
       "           0,   5,   0,   0,   0,   0,   3,   1,   0,   0,   0,   0,   1,\n",
       "           0,   0],\n",
       "        [ 67,  20,  42,  75, 130,  39,  50,  96,  13,  28,  76,  12,   2,\n",
       "          17,   7,   5,   1,   8,  13,   1, 892,   5,   0,   8,   0,   3,\n",
       "          10,  10],\n",
       "        [  6,   2,   0,   0,   6,  11,   1,   0,   5,   0,   1,   0,   0,\n",
       "           1,   0,   6,   0,   2,   0,   0,  16,  55,   0,   0,   0,   2,\n",
       "           0,   2],\n",
       "        [  2,   0,   0,   0,   1,   0,   0,   0,   0,   0,   1,   0,   0,\n",
       "           0,   0,   0,   0,   0,   1,   0,   0,   0,   2,   0,   0,   0,\n",
       "           0,   0],\n",
       "        [  3,   5,   1,   3,  13,   1,   2,   1,   0,   6,   3,   2,   1,\n",
       "           2,   0,   1,   0,   0,   1,   0,  30,   0,   1,  11,   0,   1,\n",
       "           1,  10],\n",
       "        [  1,   0,   0,   0,   3,   1,   0,   0,   0,   0,   0,   0,   0,\n",
       "           0,   0,   0,   0,   1,   0,   0,   1,   0,   0,   0,   0,   0,\n",
       "           0,   0],\n",
       "        [  0,   1,   0,   0,   0,   1,   0,   0,   0,   0,   0,   0,   0,\n",
       "           0,   1,   2,   0,   0,   0,   0,   1,   0,   0,   1,   0,  37,\n",
       "           1,   0],\n",
       "        [  3,   1,   1,   1,   4,   3,   2,   2,   0,   7,   2,   0,   0,\n",
       "           0,   2,   0,   2,   0,   0,   0,   7,   0,   0,   0,   0,  10,\n",
       "          55,   3],\n",
       "        [  7,   0,   2,   5,   0,   0,   2,   7,   0,   1,   1,   0,   0,\n",
       "           3,   1,   0,   0,   0,   1,   0,  14,   0,   0,   2,   0,   0,\n",
       "           1,  40]], dtype=int64),\n",
       " 'classification_report': '                precision    recall  f1-score   support\\n\\n    admiration       0.65      0.78      0.71       504\\n     amusement       0.79      0.88      0.84       264\\n         anger       0.45      0.58      0.51       198\\n     annoyance       0.31      0.45      0.37       320\\n      approval       0.38      0.46      0.41       351\\n        caring       0.41      0.47      0.44       135\\n     confusion       0.40      0.52      0.45       153\\n     curiosity       0.49      0.74      0.59       284\\n        desire       0.60      0.45      0.51        83\\ndisappointment       0.35      0.34      0.34       151\\n   disapproval       0.37      0.43      0.40       267\\n       disgust       0.50      0.44      0.47       123\\n embarrassment       0.65      0.35      0.46        37\\n    excitement       0.42      0.43      0.43       103\\n          fear       0.62      0.74      0.67        78\\n     gratitude       0.89      0.91      0.90       352\\n         grief       0.38      0.50      0.43         6\\n           joy       0.60      0.64      0.62       161\\n          love       0.74      0.87      0.80       238\\n   nervousness       0.44      0.35      0.39        23\\n       neutral       0.61      0.79      0.68      1787\\n      optimism       0.56      0.54      0.55       186\\n         pride       0.55      0.38      0.44        16\\n   realization       0.28      0.15      0.20       145\\n        relief       0.00      0.00      0.00        11\\n       remorse       0.58      0.77      0.66        56\\n       sadness       0.51      0.60      0.55       156\\n      surprise       0.56      0.55      0.55       141\\n\\n     micro avg       0.56      0.66      0.60      6329\\n     macro avg       0.50      0.54      0.51      6329\\n  weighted avg       0.56      0.66      0.60      6329\\n   samples avg       0.61      0.69      0.62      6329\\n',\n",
       " 'misclassification':          code    goemotion     ekman  sentiment   set  \\\n",
       " 2     eeccgbb    curiosity  surprise  ambiguous  test   \n",
       " 3     edlolx7   admiration       joy   positive  test   \n",
       " 5     eewl3mr   admiration       joy   positive  test   \n",
       " 10    ee9ejps  realization  surprise  ambiguous  test   \n",
       " 12    effht3y   admiration       joy   positive  test   \n",
       " ...       ...          ...       ...        ...   ...   \n",
       " 6291  ee7f4b8      neutral   neutral    neutral  test   \n",
       " 6307  ed9ddbo      neutral   neutral    neutral  test   \n",
       " 6311  edd1lwx      neutral   neutral    neutral  test   \n",
       " 6323  eepu3bf      neutral   neutral    neutral  test   \n",
       " 6325  edduyro      neutral   neutral    neutral  test   \n",
       " \n",
       "                                                    text  \\\n",
       " 2     It's great that you're a recovering addict, th...   \n",
       " 3     This guy is a little turd but I love him so de...   \n",
       " 5     in what universe? lol the mr. blue sky cover i...   \n",
       " 10    Some great advice right here!!!!!! I forgot ab...   \n",
       " 12    Fucking love [NAME]. [NAME] best couple don't ...   \n",
       " ...                                                 ...   \n",
       " 6291  You get her off 3 times and she doesn't finish...   \n",
       " 6307  How do we know you're not a Mossad agent? I me...   \n",
       " 6311  Maybe you just enjoy the process of digging? D...   \n",
       " 6323  Yeah, and I don’t know why, it was totally out...   \n",
       " 6325        Waiting for both of these things is torture   \n",
       " \n",
       "                                              clean_text  proba flag  \n",
       " 2           great recovering addict cool ever tried dmt    NaN  NaN  \n",
       " 3               guy little turd love dearly pas kiss :)    NaN  NaN  \n",
       " 5     universe lol mr blue sky cover one best album ...    NaN  NaN  \n",
       " 10                       great advice right here forgot    NaN  NaN  \n",
       " 12               fucking love [NAME] [NAME] best couple    NaN  NaN  \n",
       " ...                                                 ...    ...  ...  \n",
       " 6291                get 3 time finish you seems selfish    NaN  NaN  \n",
       " 6307     know mossad agent mean right but joined future    NaN  NaN  \n",
       " 6311  maybe enjoy process digging somebody attracted...    NaN  NaN  \n",
       " 6323             yeah know why totally character me ...    NaN  NaN  \n",
       " 6325                              waiting thing torture    NaN  NaN  \n",
       " \n",
       " [2163 rows x 9 columns],\n",
       " 'misclassification_examples': {'admiration': ['Best of luck mate. I’ve yet to reach my limit but this brought me closer',\n",
       "   \"Don't underestimate him, he can do it in 2\",\n",
       "   'in what universe? lol the mr. blue sky cover is one of the best on the album imo.'],\n",
       "  'amusement': [\"Is it possible you've been banned from them? I dont know how I feel about having the special privilege to view that sub lol.\",\n",
       "   'That’s just fucked lol talk about cheap.',\n",
       "   'Lol I can’t wait to end up on this sub one day.'],\n",
       "  'anger': ['I beat my dad',\n",
       "   'Tell your husband. Its lies by omissions. Who are you to pick and choose what HE wants to know.',\n",
       "   'It was SO hard to click the upvote button on this one. It\\'s one of those \"I hate it. Well done\" moments.'],\n",
       "  'annoyance': [\"Based on what I've seen, all the INFJ girls seem to be blue-haired damaged moonquacks that got abandoned by daddy.\",\n",
       "   \"would you kiss a girl if you're drunk tho? Edit : why the downvotes? It's just a question, geez\",\n",
       "   \"Don't chase after out of position teammates. Your life as a Mercy is more important. Let them fools die and learn their lesson.\"],\n",
       "  'approval': ['The barriers in large only exist with respect to Canadian oil. Other producers (with the exclusion of Venezuela ) seem to be enjoying a very profitable time.',\n",
       "   'You can get a penta from 30 seconds after the quad.',\n",
       "   \"These aren't [NAME]... they're [NAME] that like to pose in the form of a hexagram for some reason\"],\n",
       "  'caring': ['Here, kiddo. Happy cake day. You need it more than I do.',\n",
       "   \"Fascism doesn't even exist in America. [NAME], these kids are so sheltered. \",\n",
       "   'I’m so proud of you for taking care of you and your babies, mama! We love you and stay strong.'],\n",
       "  'confusion': ['Someone tell me how to feel about this',\n",
       "   \"These memes are either on a 9gag level or r/funny levels of comedy. And I can't tell which is worse.\",\n",
       "   \"How is [NAME] fleshed out? His entire role in ep1 was that he cooks. He's about as important as [NAME].\"],\n",
       "  'curiosity': ['I wonder if truly might be work stress. He works long hours at a prestigious law firm. I need to five him more credit.',\n",
       "   'I can relate. It kind of breaks your heart and your spirit, doesn’t it? ',\n",
       "   \"I like waitresses. Aren't they swell.\"],\n",
       "  'desire': ['I hope your daughter gets the help she needs and someday gets better.',\n",
       "   'Not yet! But I waiting for a miracle any year now!!',\n",
       "   '> People on the team needs to be cool. yup, totally 2016(my csgo trading days) in a straight line.'],\n",
       "  'disappointment': [\"Well fuck. I didn't think anybody cared at all...it's order than that?\",\n",
       "   'Yeah imagine if he had been as efficient as the beginning of the season. We would have at least 2 more.',\n",
       "   'There are Cubs fans that died at 95 without ever having seen their favorite team win a title. At what point is the LOILTY worth it?'],\n",
       "  'disapproval': ['Then I’m sorry but this game really isn’t for you. Progression like that would ruin the base of what this game is.',\n",
       "   'People like you with premature ejaculation and poor hygiene should not write long posts. Am I doing it right?',\n",
       "   \"The best part of froyo is getting to do it yourself. Robot is useless and bad at it's job.\"],\n",
       "  'disgust': ['Today is the only day I really hate my job as a dog walker',\n",
       "   \"Leave they don't deserve you and you don't need those sacks of shit\",\n",
       "   \"If she deleted your Snapchat just because you showed up to a bingo, then it seems she's a bit of a bad person\"],\n",
       "  'embarrassment': [\"[NAME] were the peak memes back when I first started on Reddit. Honestly none of the meme subs are good, they're all pretty cringy. \",\n",
       "   'Yeah after I showed it to my friend a few minutes later I realized what he meant but I forgot to remove my post.',\n",
       "   'The questions are normal enough, but all at once and leading with them is a little weird.'],\n",
       "  'excitement': ['They said Texas! #Woooooo TEXAS',\n",
       "   'Yaaaaaas! I need your curly hair routine!',\n",
       "   'I gotchu bro, house By Gucci Mane I’m a huge Gucci mane fan. '],\n",
       "  'fear': [\"I don't feel so financially secure\",\n",
       "   'What a horrible way to find out, though. My sympathies to the dead man.',\n",
       "   'Tl, dr - Take the abuse. Squirming only gets them off more.'],\n",
       "  'gratitude': ['Lol that’s incredible! PLO is such an amazing game, so much more entertaining than NLH. Good job pal. ',\n",
       "   'Happy cake day to him',\n",
       "   'It’s always nice to say something [nice]!'],\n",
       "  'grief': [\"You'll miss a begging old man asking for a spare coin. RIP\",\n",
       "   'Rip the guy from psych'],\n",
       "  'joy': ['My girl has slowly been getting more and more into different [NAME] music, but she will always make it a point to play this track. I love it',\n",
       "   'Is...Is this a Hitman themed FE Shitpost?...I dunno whether to be happy or impressed by this.',\n",
       "   \"Enjoying Mummers. I'm from Philly. I kind of terrified as they just used Skyrim music....\"],\n",
       "  'love': [\"I'm a woman, 50-adjacent, and a descendant of slaves. I like hot sauce but I hate [NAME].\",\n",
       "   'Thanks for this.😊 I like to learn new things. #experiencematters **Themoreyouknow**🌈 ',\n",
       "   'So true. The chicks I pick up from clubbing are nothing compared to the love of a good woman.'],\n",
       "  'nervousness': ['Holy bait-and-switch, [NAME]. I’m so sorry, that has to be incredibly stressful to have to be around and deal with.',\n",
       "   'I know, I know, but CAN YOU BLAME ME FOR BEING NERVOUS',\n",
       "   'Really visually haunting though. For me, it makes me think of strange alternate futures and dystopian sci-fi worlds. '],\n",
       "  'neutral': ['Concas! In vic park. Been closed down multiple times for health and safety violations lol',\n",
       "   'Anything intelligent to say, sometime maybe perhaps?',\n",
       "   'My dad also told me the car went underwater the first time we went to the Eastern Shore and I completely forgot about it until I read this comment.'],\n",
       "  'optimism': [\"Wow! Now that's some propaganda we could use more of!\",\n",
       "   'Sure dude. Although I’d say my rate at dispensing profound wisdom is lesser than the rate at which I can talk utter BS haha'],\n",
       "  'pride': ['Thats the high life of empowerment.'],\n",
       "  'realization': [\"It's delicate, so it's clear for those flesh toned jeggings [NAME].\",\n",
       "   \"Unless you're the type of person who rolls through relationships every 3-6 months like clockwork\",\n",
       "   'Better than mine.'],\n",
       "  'relief': [\"I'm glad you have someone to help you out! Perhaps over time you'll find it easier.\",\n",
       "   'Oh that’s actually seriously a relief, how do you know that though?',\n",
       "   'Resetting a dislocated knee hurts like hell but it feels a lot better immediately after.'],\n",
       "  'remorse': [\"I've been watching too much my 600lb life...I instantly hear dr. [NAME]\",\n",
       "   \"Oh dear, I'm so sorry you are going through this. I don't have any sage advice but I hope things get better for you.\",\n",
       "   'Sorry. I am avoiding arguments today. Enjoy the video.'],\n",
       "  'sadness': [\"Must be why I'm alive. That sucks.\",\n",
       "   \"I'm literally screaming.\",\n",
       "   \"Offense does too. Love [NAME] but he's hurting our spacing being out there so much.\"],\n",
       "  'surprise': ['This has to be a joke...',\n",
       "   \">They played three games in a week three separate times. [NAME], that's absolutely brutal\",\n",
       "   \"That's a weird way of spelling Disenchanted\"]}}"
      ]
     },
     "execution_count": 50,
     "metadata": {},
     "output_type": "execute_result"
    }
   ],
   "source": [
    "evaluate_model(p_set, ensemble, dataset)"
   ]
  },
  {
   "cell_type": "markdown",
   "id": "1ddd15b4",
   "metadata": {},
   "source": [
    "---"
   ]
  }
 ],
 "metadata": {
  "hide_input": false,
  "kernelspec": {
   "display_name": "Python 3 (ipykernel)",
   "language": "python",
   "name": "python3"
  },
  "language_info": {
   "codemirror_mode": {
    "name": "ipython",
    "version": 3
   },
   "file_extension": ".py",
   "mimetype": "text/x-python",
   "name": "python",
   "nbconvert_exporter": "python",
   "pygments_lexer": "ipython3",
   "version": "3.9.16"
  },
  "toc": {
   "base_numbering": 1,
   "nav_menu": {},
   "number_sections": true,
   "sideBar": true,
   "skip_h1_title": true,
   "title_cell": "Table of Contents",
   "title_sidebar": "Contents",
   "toc_cell": false,
   "toc_position": {
    "height": "calc(100% - 180px)",
    "left": "10px",
    "top": "150px",
    "width": "384px"
   },
   "toc_section_display": true,
   "toc_window_display": true
  },
  "varInspector": {
   "cols": {
    "lenName": 16,
    "lenType": 16,
    "lenVar": 40
   },
   "kernels_config": {
    "python": {
     "delete_cmd_postfix": "",
     "delete_cmd_prefix": "del ",
     "library": "var_list.py",
     "varRefreshCmd": "print(var_dic_list())"
    },
    "r": {
     "delete_cmd_postfix": ") ",
     "delete_cmd_prefix": "rm(",
     "library": "var_list.r",
     "varRefreshCmd": "cat(var_dic_list()) "
    }
   },
   "types_to_exclude": [
    "module",
    "function",
    "builtin_function_or_method",
    "instance",
    "_Feature"
   ],
   "window_display": false
  }
 },
 "nbformat": 4,
 "nbformat_minor": 5
}
