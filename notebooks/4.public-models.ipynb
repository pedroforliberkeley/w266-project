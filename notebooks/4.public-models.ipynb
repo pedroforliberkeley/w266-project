{
 "cells": [
  {
   "cell_type": "markdown",
   "id": "205a9e54",
   "metadata": {},
   "source": [
    "# Public Models Assessment"
   ]
  },
  {
   "cell_type": "markdown",
   "id": "06d5e36e",
   "metadata": {},
   "source": [
    "---"
   ]
  },
  {
   "cell_type": "markdown",
   "id": "3e4782f5",
   "metadata": {},
   "source": [
    "## Imports"
   ]
  },
  {
   "cell_type": "code",
   "execution_count": 1,
   "id": "c54e281e",
   "metadata": {
    "ExecuteTime": {
     "end_time": "2023-07-19T13:48:36.661130Z",
     "start_time": "2023-07-19T13:48:29.399577Z"
    }
   },
   "outputs": [],
   "source": [
    "import numpy as np\n",
    "import pandas as pd\n",
    "\n",
    "from sklearn.metrics import f1_score\n",
    "from transformers import logging\n",
    "from transformers import pipeline\n",
    "from tqdm import tqdm"
   ]
  },
  {
   "cell_type": "code",
   "execution_count": 2,
   "id": "c412bec2",
   "metadata": {
    "ExecuteTime": {
     "end_time": "2023-07-19T13:48:36.676614Z",
     "start_time": "2023-07-19T13:48:36.670660Z"
    }
   },
   "outputs": [],
   "source": [
    "logging.set_verbosity_error()"
   ]
  },
  {
   "cell_type": "code",
   "execution_count": 3,
   "id": "e17b6bb4",
   "metadata": {
    "ExecuteTime": {
     "end_time": "2023-07-19T13:48:36.691803Z",
     "start_time": "2023-07-19T13:48:36.677613Z"
    }
   },
   "outputs": [],
   "source": [
    "MAX_SEQUENCE_LENGTH = 200"
   ]
  },
  {
   "cell_type": "markdown",
   "id": "7f9d3ddb",
   "metadata": {},
   "source": [
    "---"
   ]
  },
  {
   "cell_type": "markdown",
   "id": "6b8fffb0",
   "metadata": {},
   "source": [
    "## Data Loading"
   ]
  },
  {
   "cell_type": "code",
   "execution_count": 4,
   "id": "7bf7740c",
   "metadata": {
    "ExecuteTime": {
     "end_time": "2023-07-19T13:48:36.865754Z",
     "start_time": "2023-07-19T13:48:36.693809Z"
    }
   },
   "outputs": [],
   "source": [
    "dataset = pd.read_parquet(\"../data/clean_data.parquet\")"
   ]
  },
  {
   "cell_type": "code",
   "execution_count": 5,
   "id": "3fb01b8d",
   "metadata": {
    "ExecuteTime": {
     "end_time": "2023-07-19T13:48:36.895946Z",
     "start_time": "2023-07-19T13:48:36.873799Z"
    }
   },
   "outputs": [],
   "source": [
    "ge_labels = []\n",
    "with open(\"../data/emotions.txt\", \"r\", encoding=\"utf-8\") as f:\n",
    "    for line in f:\n",
    "        ge_labels.append(line.rstrip())"
   ]
  },
  {
   "cell_type": "code",
   "execution_count": 6,
   "id": "3bc41eb7",
   "metadata": {
    "ExecuteTime": {
     "end_time": "2023-07-19T13:48:36.941947Z",
     "start_time": "2023-07-19T13:48:36.896947Z"
    }
   },
   "outputs": [],
   "source": [
    "target_names = sorted(list(dataset[\"goemotion\"].unique()))\n",
    "test_pv = (\n",
    "    dataset.loc[lambda f: f[\"set\"] == \"test\"]\n",
    "    .pivot_table(index=[\"code\", \"text\"], columns=\"goemotion\", values=\"set\", aggfunc=\"count\", fill_value=0)\n",
    ")"
   ]
  },
  {
   "cell_type": "markdown",
   "id": "d0a5a9f3",
   "metadata": {},
   "source": [
    "---"
   ]
  },
  {
   "cell_type": "markdown",
   "id": "0b28fedb",
   "metadata": {},
   "source": [
    "## BERT Finetuned "
   ]
  },
  {
   "cell_type": "markdown",
   "id": "7498bf15",
   "metadata": {},
   "source": [
    "https://huggingface.co/justin871030/bert-base-uncased-goemotions-group-finetuned\n",
    "\n",
    "https://github.com/justin871030/GoEmotions/tree/main\n",
    "\n",
    "- Macro F1: 0.532031"
   ]
  },
  {
   "cell_type": "code",
   "execution_count": null,
   "id": "e5fc4903",
   "metadata": {},
   "outputs": [],
   "source": []
  },
  {
   "cell_type": "markdown",
   "id": "59c92cc4",
   "metadata": {},
   "source": [
    "## DistilBERT Finetuned "
   ]
  },
  {
   "cell_type": "markdown",
   "id": "a2554895",
   "metadata": {},
   "source": [
    "https://huggingface.co/jungealexander/distilbert-base-uncased-finetuned-go_emotions_20220608_1\n",
    "\n",
    "- Loss: 0.0857\n",
    "- F1: 0.5575\n",
    "- Roc Auc: 0.7242\n",
    "- Accuracy: 0.4364"
   ]
  },
  {
   "cell_type": "code",
   "execution_count": 7,
   "id": "84164539",
   "metadata": {
    "ExecuteTime": {
     "end_time": "2023-07-19T13:48:37.908832Z",
     "start_time": "2023-07-19T13:48:36.942949Z"
    }
   },
   "outputs": [
    {
     "name": "stderr",
     "output_type": "stream",
     "text": [
      "C:\\Users\\pedro.forli\\.conda\\envs\\w266\\lib\\site-packages\\transformers\\pipelines\\text_classification.py:104: UserWarning: `return_all_scores` is now deprecated,  if want a similar funcionality use `top_k=None` instead of `return_all_scores=True` or `top_k=1` instead of `return_all_scores=False`.\n",
      "  warnings.warn(\n"
     ]
    }
   ],
   "source": [
    "dbt = pipeline(\n",
    "    'sentiment-analysis', \n",
    "    model=\"jungealexander/distilbert-base-uncased-finetuned-go_emotions_20220608_1\", \n",
    "    return_all_scores=True\n",
    ")"
   ]
  },
  {
   "cell_type": "code",
   "execution_count": 8,
   "id": "1e5e5708",
   "metadata": {
    "ExecuteTime": {
     "end_time": "2023-07-19T13:49:51.070832Z",
     "start_time": "2023-07-19T13:48:37.909832Z"
    },
    "scrolled": true
   },
   "outputs": [
    {
     "name": "stderr",
     "output_type": "stream",
     "text": [
      "100%|██████████████████████████████████████████████████████████████████████████████████████████████████████████████████████████████████████████████████████████████████████████████████████████████| 5427/5427 [01:13<00:00, 74.19it/s]\n"
     ]
    }
   ],
   "source": [
    "dbt_labels = [dbt(text) for text in tqdm(test_pv.reset_index().text.tolist())]"
   ]
  },
  {
   "cell_type": "code",
   "execution_count": 9,
   "id": "346b996a",
   "metadata": {
    "ExecuteTime": {
     "end_time": "2023-07-19T13:49:51.134832Z",
     "start_time": "2023-07-19T13:49:51.072831Z"
    }
   },
   "outputs": [
    {
     "name": "stdout",
     "output_type": "stream",
     "text": [
      "Macro F1: 0.44244223148216955 \n",
      "Micro F1: 0.5871635043496131\n"
     ]
    }
   ],
   "source": [
    "dbt_pred = np.zeros((len(dbt_labels), len(target_names)))\n",
    "for i, label_list in enumerate(dbt_labels):\n",
    "    for label in label_list[0]:\n",
    "        if label[\"score\"] > 0.2:\n",
    "            dbt_pred[i, int(label[\"label\"].replace(\"LABEL_\", \"\"))] = 1\n",
    "            \n",
    "print(\n",
    "    \"Macro F1:\", f1_score(test_pv[ge_labels].values, dbt_pred, average=\"macro\"),\n",
    "    \"\\nMicro F1:\", f1_score(test_pv[ge_labels].values, dbt_pred, average=\"micro\"),\n",
    ")"
   ]
  },
  {
   "cell_type": "markdown",
   "id": "e79f4028",
   "metadata": {},
   "source": [
    "## Roberta Base "
   ]
  },
  {
   "cell_type": "markdown",
   "id": "89a99f04",
   "metadata": {},
   "source": [
    "https://huggingface.co/SamLowe/roberta-base-go_emotions\n",
    "\n",
    "- Micro F1 0.585\n",
    "- ROC AUC 0.751\n",
    "- Accuracy 0.474"
   ]
  },
  {
   "cell_type": "code",
   "execution_count": 10,
   "id": "7e114b21",
   "metadata": {
    "ExecuteTime": {
     "end_time": "2023-07-19T13:49:52.706554Z",
     "start_time": "2023-07-19T13:49:51.138831Z"
    }
   },
   "outputs": [
    {
     "name": "stderr",
     "output_type": "stream",
     "text": [
      "C:\\Users\\pedro.forli\\.conda\\envs\\w266\\lib\\site-packages\\transformers\\pipelines\\text_classification.py:104: UserWarning: `return_all_scores` is now deprecated,  if want a similar funcionality use `top_k=None` instead of `return_all_scores=True` or `top_k=1` instead of `return_all_scores=False`.\n",
      "  warnings.warn(\n"
     ]
    }
   ],
   "source": [
    "roberta = pipeline('sentiment-analysis', model='SamLowe/roberta-base-go_emotions', return_all_scores=True)"
   ]
  },
  {
   "cell_type": "code",
   "execution_count": 11,
   "id": "058f908e",
   "metadata": {
    "ExecuteTime": {
     "end_time": "2023-07-19T13:52:17.392555Z",
     "start_time": "2023-07-19T13:49:52.707556Z"
    }
   },
   "outputs": [
    {
     "name": "stderr",
     "output_type": "stream",
     "text": [
      "100%|██████████████████████████████████████████████████████████████████████████████████████████████████████████████████████████████████████████████████████████████████████████████████████████████| 5427/5427 [02:24<00:00, 37.51it/s]\n"
     ]
    }
   ],
   "source": [
    "roberta_labels = [roberta(text) for text in tqdm(test_pv.reset_index().text.tolist())]"
   ]
  },
  {
   "cell_type": "code",
   "execution_count": 12,
   "id": "f5fe4f77",
   "metadata": {
    "ExecuteTime": {
     "end_time": "2023-07-19T13:52:17.470554Z",
     "start_time": "2023-07-19T13:52:17.394556Z"
    }
   },
   "outputs": [
    {
     "name": "stdout",
     "output_type": "stream",
     "text": [
      "Macro F1: 0.4992045852054491 \n",
      "Micro F1: 0.5950699533644237\n"
     ]
    }
   ],
   "source": [
    "roberta_pred = np.zeros((len(roberta_labels), len(target_names)))\n",
    "for i, label_list in enumerate(roberta_labels):\n",
    "    for label in label_list[0]:\n",
    "        if label[\"score\"] > 0.2:\n",
    "            roberta_pred[i, ge_labels.index(label[\"label\"])] = 1\n",
    "            \n",
    "print(\n",
    "    \"Macro F1:\", f1_score(test_pv[ge_labels].values, roberta_pred, average=\"macro\"),\n",
    "    \"\\nMicro F1:\", f1_score(test_pv[ge_labels].values, roberta_pred, average=\"micro\"),\n",
    ")"
   ]
  },
  {
   "cell_type": "markdown",
   "id": "7faaca55",
   "metadata": {},
   "source": [
    "## Roberta Large "
   ]
  },
  {
   "cell_type": "markdown",
   "id": "e2892e48",
   "metadata": {},
   "source": [
    "https://huggingface.co/IsaacZhy/roberta-large-goemotions\n",
    "\n",
    "- Loss: 0.0568\n",
    "- F1: 0.5868\n",
    "- Roc Auc: 0.7616\n",
    "- Accuracy: 0.4821"
   ]
  },
  {
   "cell_type": "code",
   "execution_count": 13,
   "id": "cd02b260",
   "metadata": {
    "ExecuteTime": {
     "end_time": "2023-07-19T13:52:20.279872Z",
     "start_time": "2023-07-19T13:52:17.472555Z"
    }
   },
   "outputs": [
    {
     "name": "stderr",
     "output_type": "stream",
     "text": [
      "C:\\Users\\pedro.forli\\.conda\\envs\\w266\\lib\\site-packages\\transformers\\pipelines\\text_classification.py:104: UserWarning: `return_all_scores` is now deprecated,  if want a similar funcionality use `top_k=None` instead of `return_all_scores=True` or `top_k=1` instead of `return_all_scores=False`.\n",
      "  warnings.warn(\n"
     ]
    }
   ],
   "source": [
    "roberta_large = pipeline('sentiment-analysis', model='IsaacZhy/roberta-large-goemotions', return_all_scores=True)"
   ]
  },
  {
   "cell_type": "code",
   "execution_count": 14,
   "id": "dafcfbe6",
   "metadata": {
    "ExecuteTime": {
     "end_time": "2023-07-19T14:00:47.851975Z",
     "start_time": "2023-07-19T13:52:20.281872Z"
    }
   },
   "outputs": [
    {
     "name": "stderr",
     "output_type": "stream",
     "text": [
      "100%|██████████████████████████████████████████████████████████████████████████████████████████████████████████████████████████████████████████████████████████████████████████████████████████████| 5427/5427 [08:27<00:00, 10.69it/s]\n"
     ]
    }
   ],
   "source": [
    "robertal_labels = [roberta_large(text) for text in tqdm(test_pv.reset_index().text.tolist())]"
   ]
  },
  {
   "cell_type": "code",
   "execution_count": 15,
   "id": "48980870",
   "metadata": {
    "ExecuteTime": {
     "end_time": "2023-07-19T14:00:47.930976Z",
     "start_time": "2023-07-19T14:00:47.853975Z"
    }
   },
   "outputs": [
    {
     "name": "stdout",
     "output_type": "stream",
     "text": [
      "Macro F1: 0.5343813883997255 \n",
      "Micro F1: 0.5910508474576271\n"
     ]
    }
   ],
   "source": [
    "robertal_pred = np.zeros((len(robertal_labels), len(target_names)))\n",
    "for i, label_list in enumerate(robertal_labels):\n",
    "    for label in label_list[0]:\n",
    "        if label[\"score\"] > 0.2:\n",
    "            robertal_pred[i, ge_labels.index(label[\"label\"])] = 1\n",
    "\n",
    "print(\n",
    "    \"Macro F1:\", f1_score(test_pv[ge_labels].values, robertal_pred, average=\"macro\"),\n",
    "    \"\\nMicro F1:\", f1_score(test_pv[ge_labels].values, robertal_pred, average=\"micro\"),\n",
    ")"
   ]
  },
  {
   "cell_type": "markdown",
   "id": "121a953e",
   "metadata": {},
   "source": [
    "## Roberta BNE "
   ]
  },
  {
   "cell_type": "markdown",
   "id": "08de47da",
   "metadata": {},
   "source": [
    "https://huggingface.co/mrm8488/roberta-large-bne-finetuned-go_emotions-es\n",
    "\n",
    "- Loss: 3.2457\n",
    "- Accuracy: 0.5668\n",
    "- F1: 0.5572"
   ]
  },
  {
   "cell_type": "code",
   "execution_count": 16,
   "id": "7702959e",
   "metadata": {
    "ExecuteTime": {
     "end_time": "2023-07-19T14:00:50.654485Z",
     "start_time": "2023-07-19T14:00:47.932976Z"
    }
   },
   "outputs": [
    {
     "name": "stderr",
     "output_type": "stream",
     "text": [
      "C:\\Users\\pedro.forli\\.conda\\envs\\w266\\lib\\site-packages\\transformers\\pipelines\\text_classification.py:104: UserWarning: `return_all_scores` is now deprecated,  if want a similar funcionality use `top_k=None` instead of `return_all_scores=True` or `top_k=1` instead of `return_all_scores=False`.\n",
      "  warnings.warn(\n"
     ]
    }
   ],
   "source": [
    "roberta_bne = pipeline(\n",
    "    'sentiment-analysis', \n",
    "    model='mrm8488/roberta-large-bne-finetuned-go_emotions-es', \n",
    "    return_all_scores=True\n",
    ")"
   ]
  },
  {
   "cell_type": "code",
   "execution_count": 17,
   "id": "aa9ff292",
   "metadata": {
    "ExecuteTime": {
     "end_time": "2023-07-19T14:10:06.979454Z",
     "start_time": "2023-07-19T14:00:50.655457Z"
    }
   },
   "outputs": [
    {
     "name": "stderr",
     "output_type": "stream",
     "text": [
      "100%|██████████████████████████████████████████████████████████████████████████████████████████████████████████████████████████████████████████████████████████████████████████████████████████████| 5427/5427 [09:16<00:00,  9.76it/s]\n"
     ]
    }
   ],
   "source": [
    "roberta_bne_labels = [roberta_bne(text) for text in tqdm(test_pv.reset_index().text.tolist())]"
   ]
  },
  {
   "cell_type": "code",
   "execution_count": 18,
   "id": "879857f8",
   "metadata": {
    "ExecuteTime": {
     "end_time": "2023-07-19T14:10:07.043456Z",
     "start_time": "2023-07-19T14:10:06.981455Z"
    }
   },
   "outputs": [
    {
     "name": "stdout",
     "output_type": "stream",
     "text": [
      "Macro F1: 0.08742868052796397 \n",
      "Micro F1: 0.3482438701126574\n"
     ]
    }
   ],
   "source": [
    "roberta_bne_pred = np.zeros((len(roberta_bne_labels), len(target_names)))\n",
    "for i, label_list in enumerate(roberta_bne_labels):\n",
    "    for label in label_list[0]:\n",
    "        if label[\"score\"] > 0.2:\n",
    "            roberta_bne_pred[i, int(label[\"label\"].replace(\"LABEL_\", \"\"))] = 1\n",
    "\n",
    "print(\n",
    "    \"Macro F1:\", f1_score(test_pv[ge_labels].values, roberta_bne_pred, average=\"macro\"),\n",
    "    \"\\nMicro F1:\", f1_score(test_pv[ge_labels].values, roberta_bne_pred, average=\"micro\"),\n",
    ")"
   ]
  },
  {
   "cell_type": "markdown",
   "id": "f1802a06",
   "metadata": {},
   "source": [
    "## EmoRoBERTa "
   ]
  },
  {
   "cell_type": "markdown",
   "id": "795dfe27",
   "metadata": {},
   "source": [
    "https://huggingface.co/arpanghoshal/EmoRoBERTa\n",
    "\n",
    "- Macro F1 - 0.493"
   ]
  },
  {
   "cell_type": "code",
   "execution_count": 19,
   "id": "b9ce65cd",
   "metadata": {
    "ExecuteTime": {
     "end_time": "2023-07-19T14:10:13.560841Z",
     "start_time": "2023-07-19T14:10:07.045456Z"
    }
   },
   "outputs": [
    {
     "name": "stderr",
     "output_type": "stream",
     "text": [
      "C:\\Users\\pedro.forli\\.conda\\envs\\w266\\lib\\site-packages\\transformers\\pipelines\\text_classification.py:104: UserWarning: `return_all_scores` is now deprecated,  if want a similar funcionality use `top_k=None` instead of `return_all_scores=True` or `top_k=1` instead of `return_all_scores=False`.\n",
      "  warnings.warn(\n"
     ]
    }
   ],
   "source": [
    "emoroberta = pipeline('sentiment-analysis', model='arpanghoshal/EmoRoBERTa', return_all_scores=True)"
   ]
  },
  {
   "cell_type": "code",
   "execution_count": 20,
   "id": "3cbf2eba",
   "metadata": {
    "ExecuteTime": {
     "end_time": "2023-07-19T14:42:47.764701Z",
     "start_time": "2023-07-19T14:10:13.561841Z"
    }
   },
   "outputs": [
    {
     "name": "stderr",
     "output_type": "stream",
     "text": [
      "100%|██████████████████████████████████████████████████████████████████████████████████████████████████████████████████████████████████████████████████████████████████████████████████████████████| 5427/5427 [32:34<00:00,  2.78it/s]\n"
     ]
    }
   ],
   "source": [
    "emoroberta_labels = [emoroberta(text) for text in tqdm(test_pv.reset_index().text.tolist())]"
   ]
  },
  {
   "cell_type": "code",
   "execution_count": 27,
   "id": "28a462b9",
   "metadata": {
    "ExecuteTime": {
     "end_time": "2023-07-19T15:01:20.558284Z",
     "start_time": "2023-07-19T15:01:20.497284Z"
    }
   },
   "outputs": [
    {
     "name": "stdout",
     "output_type": "stream",
     "text": [
      "Macro F1: 0.4353215043422026 \n",
      "Micro F1: 0.5119217444467087\n"
     ]
    }
   ],
   "source": [
    "emoroberta_pred = np.zeros((len(emoroberta_labels), len(target_names)))\n",
    "for i, label_list in enumerate(emoroberta_labels):\n",
    "    for label in label_list[0]:\n",
    "        if label[\"score\"] > 0.2:\n",
    "            emoroberta_pred[i, ge_labels.index(label[\"label\"])] = 1\n",
    "            \n",
    "print(\n",
    "    \"Macro F1:\", f1_score(test_pv[ge_labels].values, emoroberta_pred, average=\"macro\"),\n",
    "    \"\\nMicro F1:\", f1_score(test_pv[ge_labels].values, emoroberta_pred, average=\"micro\"),\n",
    ")"
   ]
  },
  {
   "cell_type": "markdown",
   "id": "562b4327",
   "metadata": {},
   "source": [
    "## EmoGPT "
   ]
  },
  {
   "cell_type": "markdown",
   "id": "19d07918",
   "metadata": {},
   "source": [
    "https://huggingface.co/tingtone/go_emo_gpt\n",
    "\n",
    "- Loss: 0.0964\n",
    "- F1: 0.6010\n",
    "- Roc Auc: 0.7659\n",
    "- Accuracy: 0.4996"
   ]
  },
  {
   "cell_type": "code",
   "execution_count": 22,
   "id": "370ee970",
   "metadata": {
    "ExecuteTime": {
     "end_time": "2023-07-19T14:42:49.605996Z",
     "start_time": "2023-07-19T14:42:47.828701Z"
    }
   },
   "outputs": [
    {
     "name": "stderr",
     "output_type": "stream",
     "text": [
      "C:\\Users\\pedro.forli\\.conda\\envs\\w266\\lib\\site-packages\\transformers\\pipelines\\text_classification.py:104: UserWarning: `return_all_scores` is now deprecated,  if want a similar funcionality use `top_k=None` instead of `return_all_scores=True` or `top_k=1` instead of `return_all_scores=False`.\n",
      "  warnings.warn(\n"
     ]
    }
   ],
   "source": [
    "emogpt = pipeline('sentiment-analysis', model='tingtone/go_emo_gpt', return_all_scores=True)"
   ]
  },
  {
   "cell_type": "code",
   "execution_count": 23,
   "id": "2f713c8a",
   "metadata": {
    "ExecuteTime": {
     "end_time": "2023-07-19T14:45:45.003996Z",
     "start_time": "2023-07-19T14:42:49.606998Z"
    }
   },
   "outputs": [
    {
     "name": "stderr",
     "output_type": "stream",
     "text": [
      "100%|██████████████████████████████████████████████████████████████████████████████████████████████████████████████████████████████████████████████████████████████████████████████████████████████| 5427/5427 [02:55<00:00, 30.94it/s]\n"
     ]
    }
   ],
   "source": [
    "emogpt_labels = [emogpt(text) for text in tqdm(test_pv.reset_index().text.tolist())]"
   ]
  },
  {
   "cell_type": "code",
   "execution_count": 24,
   "id": "b3f87145",
   "metadata": {
    "ExecuteTime": {
     "end_time": "2023-07-19T14:45:45.065996Z",
     "start_time": "2023-07-19T14:45:45.005997Z"
    }
   },
   "outputs": [
    {
     "name": "stdout",
     "output_type": "stream",
     "text": [
      "Macro F1: 0.5018997608753327 \n",
      "Micro F1: 0.6058181818181818\n"
     ]
    }
   ],
   "source": [
    "emogpt_pred = np.zeros((len(emogpt_labels), len(target_names)))\n",
    "for i, label_list in enumerate(emogpt_labels):\n",
    "    for label in label_list[0]:\n",
    "        if label[\"score\"] > 0.2:\n",
    "            emogpt_pred[i, ge_labels.index(label[\"label\"])] = 1\n",
    "            \n",
    "print(\n",
    "    \"Macro F1:\", f1_score(test_pv[ge_labels].values, emogpt_pred, average=\"macro\"),\n",
    "    \"\\nMicro F1:\", f1_score(test_pv[ge_labels].values, emogpt_pred, average=\"micro\"),\n",
    ")"
   ]
  },
  {
   "cell_type": "markdown",
   "id": "dcc304ed",
   "metadata": {},
   "source": [
    "---"
   ]
  }
 ],
 "metadata": {
  "hide_input": false,
  "kernelspec": {
   "display_name": "Python 3 (ipykernel)",
   "language": "python",
   "name": "python3"
  },
  "language_info": {
   "codemirror_mode": {
    "name": "ipython",
    "version": 3
   },
   "file_extension": ".py",
   "mimetype": "text/x-python",
   "name": "python",
   "nbconvert_exporter": "python",
   "pygments_lexer": "ipython3",
   "version": "3.9.16"
  },
  "toc": {
   "base_numbering": 1,
   "nav_menu": {},
   "number_sections": true,
   "sideBar": true,
   "skip_h1_title": true,
   "title_cell": "Table of Contents",
   "title_sidebar": "Contents",
   "toc_cell": false,
   "toc_position": {},
   "toc_section_display": true,
   "toc_window_display": true
  },
  "varInspector": {
   "cols": {
    "lenName": 16,
    "lenType": 16,
    "lenVar": 40
   },
   "kernels_config": {
    "python": {
     "delete_cmd_postfix": "",
     "delete_cmd_prefix": "del ",
     "library": "var_list.py",
     "varRefreshCmd": "print(var_dic_list())"
    },
    "r": {
     "delete_cmd_postfix": ") ",
     "delete_cmd_prefix": "rm(",
     "library": "var_list.r",
     "varRefreshCmd": "cat(var_dic_list()) "
    }
   },
   "types_to_exclude": [
    "module",
    "function",
    "builtin_function_or_method",
    "instance",
    "_Feature"
   ],
   "window_display": false
  }
 },
 "nbformat": 4,
 "nbformat_minor": 5
}
